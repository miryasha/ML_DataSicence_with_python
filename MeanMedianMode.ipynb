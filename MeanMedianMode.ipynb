{
 "cells": [
  {
   "cell_type": "markdown",
   "metadata": {},
   "source": [
    "# Mean, Median, Mode, and introducing NumPy"
   ]
  },
  {
   "cell_type": "markdown",
   "metadata": {},
   "source": [
    "## Mean vs. Median"
   ]
  },
  {
   "cell_type": "markdown",
   "metadata": {},
   "source": [
    "Let's create some fake income data, centered around 27,000 with a normal distribution and standard deviation of 15,000, with 10,000 data points. (We'll discuss those terms more later, if you're not familiar with them.)\n",
    "\n",
    "Then, compute the mean (average) - it should be close to 27,000:"
   ]
  },
  {
   "cell_type": "code",
   "execution_count": 2,
   "metadata": {},
   "outputs": [
    {
     "data": {
      "text/plain": [
       "26985.494155707205"
      ]
     },
     "execution_count": 2,
     "metadata": {},
     "output_type": "execute_result"
    }
   ],
   "source": [
    "import numpy as np\n",
    "\n",
    "incomes = np.random.normal(27000, 15000, 10000)\n",
    "np.mean(incomes)"
   ]
  },
  {
   "cell_type": "markdown",
   "metadata": {},
   "source": [
    "We can segment the income data into 50 buckets, and plot it as a histogram:"
   ]
  },
  {
   "cell_type": "code",
   "execution_count": 3,
   "metadata": {},
   "outputs": [
    {
     "data": {
      "image/png": "[encoded data removed]",
      "text/plain": [
       "<Figure size 640x480 with 1 Axes>"
      ]
     },
     "metadata": {},
     "output_type": "display_data"
    }
   ],
   "source": [
    "%matplotlib inline\n",
    "import matplotlib.pyplot as plt\n",
    "plt.hist(incomes, 50)\n",
    "plt.show()"
   ]
  },
  {
   "cell_type": "markdown",
   "metadata": {},
   "source": [
    "Now compute the median - since we have a nice, even distribution it too should be close to 27,000:"
   ]
  },
  {
   "cell_type": "code",
   "execution_count": 4,
   "metadata": {},
   "outputs": [
    {
     "data": {
      "text/plain": [
       "26900.551747702106"
      ]
     },
     "execution_count": 4,
     "metadata": {},
     "output_type": "execute_result"
    }
   ],
   "source": [
    "np.median(incomes)"
   ]
  },
  {
   "cell_type": "markdown",
   "metadata": {},
   "source": [
    "Now we'll add Jeff Bezos into the mix. Darn income inequality!"
   ]
  },
  {
   "cell_type": "code",
   "execution_count": 5,
   "metadata": {},
   "outputs": [],
   "source": [
    "incomes = np.append(incomes, [1000000000])"
   ]
  },
  {
   "cell_type": "markdown",
   "metadata": {},
   "source": [
    "The median won't change much, but the mean does:"
   ]
  },
  {
   "cell_type": "code",
   "execution_count": 8,
   "metadata": {},
   "outputs": [
    {
     "data": {
      "text/plain": [
       "26902.7316514524"
      ]
     },
     "execution_count": 8,
     "metadata": {},
     "output_type": "execute_result"
    }
   ],
   "source": [
    "np.median(incomes)"
   ]
  },
  {
   "cell_type": "code",
   "execution_count": 9,
   "metadata": {},
   "outputs": [
    {
     "data": {
      "text/plain": [
       "126972.7968760196"
      ]
     },
     "execution_count": 9,
     "metadata": {},
     "output_type": "execute_result"
    }
   ],
   "source": [
    "np.mean(incomes)"
   ]
  },
  {
   "cell_type": "markdown",
   "metadata": {},
   "source": [
    "## Mode"
   ]
  },
  {
   "cell_type": "markdown",
   "metadata": {},
   "source": [
    "Next, let's generate some fake age data for 500 people:"
   ]
  },
  {
   "cell_type": "code",
   "execution_count": 14,
   "metadata": {},
   "outputs": [
    {
     "data": {
      "text/plain": [
       "array([32, 63, 31, 42, 60, 29, 44, 81, 63, 65, 27, 59, 30, 62, 60, 56, 25,\n",
       "       59, 46, 31, 87, 52, 73, 78, 46, 32, 88, 45, 39, 61, 83, 21, 87, 53,\n",
       "       48, 52, 52, 33, 48, 64, 36, 72, 88, 79, 40, 69, 76, 82, 71, 44, 83,\n",
       "       55, 87, 70, 42, 76, 76, 88, 21, 26, 30, 65, 45, 47, 28, 58, 79, 42,\n",
       "       68, 53, 52, 66, 42, 66, 79, 21, 79, 37, 88, 52, 20, 48, 55, 54, 86,\n",
       "       21, 50, 85, 66, 22, 39, 86, 56, 25, 22, 52, 34, 45, 66, 88, 20, 72,\n",
       "       32, 48, 51, 41, 52, 48, 75, 38, 81, 18, 48, 38, 64, 52, 37, 89, 35,\n",
       "       74, 55, 58, 72, 88, 38, 35, 37, 73, 59, 72, 54, 88, 66, 59, 54, 75,\n",
       "       31, 57, 39, 37, 59, 38, 47, 39, 57, 62, 25, 49, 29, 81, 73, 37, 24,\n",
       "       63, 84, 23, 34, 58, 62, 32, 89, 32, 65, 36, 20, 21, 82, 89, 31, 71,\n",
       "       81, 54, 23, 88, 18, 51, 77, 59, 32, 25, 71, 80, 62, 23, 54, 42, 49,\n",
       "       46, 26, 21, 71, 45, 37, 49, 58, 18, 31, 39, 21, 40, 71, 24, 58, 23,\n",
       "       53, 46, 31, 27, 80, 89, 76, 85, 21, 33, 31, 31, 23, 29, 56, 44, 50,\n",
       "       82, 61, 70, 39, 87, 29, 45, 78, 33, 18, 25, 27, 27, 53, 33, 64, 59,\n",
       "       34, 21, 60, 36, 39, 51, 71, 67, 59, 81, 78, 25, 45, 70, 86, 48, 47,\n",
       "       25, 72, 77, 21, 36, 40, 83, 66, 48, 71, 80, 45, 41, 67, 69, 68, 71,\n",
       "       54, 51, 54, 28, 49, 51, 77, 82, 34, 73, 56, 89, 51, 69, 72, 55, 36,\n",
       "       88, 19, 50, 71, 81, 27, 46, 85, 80, 45, 82, 83, 48, 74, 25, 67, 64,\n",
       "       36, 64, 38, 48, 31, 86, 56, 52, 80, 75, 89, 59, 63, 78, 20, 59, 64,\n",
       "       20, 48, 59, 75, 21, 68, 51, 23, 79, 76, 58, 36, 64, 58, 36, 68, 33,\n",
       "       45, 19, 83, 41, 58, 82, 89, 48, 24, 78, 28, 82, 48, 76, 76, 78, 85,\n",
       "       88, 88, 80, 82, 73, 22, 73, 65, 61, 42, 44, 77, 44, 54, 30, 83, 86,\n",
       "       53, 88, 39, 21, 32, 68, 88, 57, 53, 82, 57, 32, 45, 69, 50, 51, 47,\n",
       "       32, 58, 25, 40, 56, 23, 59, 72, 54, 54, 61, 55, 34, 74, 65, 68, 61,\n",
       "       60, 66, 24, 23, 38, 50, 38, 27, 40, 88, 56, 76, 44, 26, 46, 79, 73,\n",
       "       37, 61, 21, 34, 25, 89, 30, 87, 88, 21, 67, 33, 74, 37, 69, 87, 73,\n",
       "       52, 88, 87, 28, 66, 86, 49, 42, 86, 70, 85, 45, 43, 61, 86, 26, 45,\n",
       "       39, 43, 39, 20, 78, 67, 23, 45, 62, 42, 40, 55, 41, 29, 55, 66, 24,\n",
       "       68, 29, 84, 83, 55, 62, 31, 75, 46, 40, 51, 51, 67, 70, 69, 19, 64,\n",
       "       36, 37, 34, 48, 22, 30, 20])"
      ]
     },
     "execution_count": 14,
     "metadata": {},
     "output_type": "execute_result"
    }
   ],
   "source": [
    "ages = np.random.randint(18, high=90, size=500)\n",
    "ages"
   ]
  },
  {
   "cell_type": "code",
   "execution_count": 15,
   "metadata": {},
   "outputs": [
    {
     "name": "stderr",
     "output_type": "stream",
     "text": [
      "C:\\Users\\asgharm\\AppData\\Local\\Temp\\ipykernel_10168\\2994774060.py:2: FutureWarning: Unlike other reduction functions (e.g. `skew`, `kurtosis`), the default behavior of `mode` typically preserves the axis it acts along. In SciPy 1.11.0, this behavior will change: the default value of `keepdims` will become False, the `axis` over which the statistic is taken will be eliminated, and the value None will no longer be accepted. Set `keepdims` to True or False to avoid this warning.\n",
      "  stats.mode(ages)\n"
     ]
    },
    {
     "data": {
      "text/plain": [
       "ModeResult(mode=array([88]), count=array([16]))"
      ]
     },
     "execution_count": 15,
     "metadata": {},
     "output_type": "execute_result"
    }
   ],
   "source": [
    "from scipy import stats\n",
    "stats.mode(ages)"
   ]
  },
  {
   "cell_type": "code",
   "execution_count": null,
   "metadata": {},
   "outputs": [],
   "source": []
  },
  {
   "cell_type": "code",
   "execution_count": null,
   "metadata": {},
   "outputs": [],
   "source": []
  }
 ],
 "metadata": {
  "kernelspec": {
   "display_name": "Python 3 (ipykernel)",
   "language": "python",
   "name": "python3"
  },
  "language_info": {
   "codemirror_mode": {
    "name": "ipython",
    "version": 3
   },
   "file_extension": ".py",
   "mimetype": "text/x-python",
   "name": "python",
   "nbconvert_exporter": "python",
   "pygments_lexer": "ipython3",
   "version": "3.9.13"
  }
 },
 "nbformat": 4,
 "nbformat_minor": 1
}
